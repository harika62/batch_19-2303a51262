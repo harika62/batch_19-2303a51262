{
  "nbformat": 4,
  "nbformat_minor": 0,
  "metadata": {
    "colab": {
      "provenance": [],
      "authorship_tag": "ABX9TyMUU5CLtaXd/krkl+e9yXmr",
      "include_colab_link": true
    },
    "kernelspec": {
      "name": "python3",
      "display_name": "Python 3"
    },
    "language_info": {
      "name": "python"
    }
  },
  "cells": [
    {
      "cell_type": "markdown",
      "metadata": {
        "id": "view-in-github",
        "colab_type": "text"
      },
      "source": [
        "<a href=\"https://colab.research.google.com/github/harika62/batch_19-2303a51262/blob/main/lab5.ipynb\" target=\"_parent\"><img src=\"https://colab.research.google.com/assets/colab-badge.svg\" alt=\"Open In Colab\"/></a>"
      ]
    },
    {
      "cell_type": "code",
      "source": [
        "import pandas as pd\n",
        "data=[10,20,30,40,50]\n",
        "index_labels=['a','b','c','d','e']\n",
        "series=pd.Series(data,index=index_labels)\n",
        "print(series)"
      ],
      "metadata": {
        "colab": {
          "base_uri": "https://localhost:8080/"
        },
        "id": "G6Hog0c78xt0",
        "outputId": "a178cc20-4473-4710-b1bf-a93a6f8e7540"
      },
      "execution_count": 5,
      "outputs": [
        {
          "output_type": "stream",
          "name": "stdout",
          "text": [
            "a    10\n",
            "b    20\n",
            "c    30\n",
            "d    40\n",
            "e    50\n",
            "dtype: int64\n"
          ]
        }
      ]
    },
    {
      "cell_type": "code",
      "metadata": {
        "colab": {
          "base_uri": "https://localhost:8080/"
        },
        "id": "c9d57fd2",
        "outputId": "60cc34eb-4101-4498-8d7d-c4ca1140eca5"
      },
      "source": [
        "import pandas as pd\n",
        "data=[10,20,30,40,50]\n",
        "series=pd.Series(data)\n",
        "print(series)"
      ],
      "execution_count": 6,
      "outputs": [
        {
          "output_type": "stream",
          "name": "stdout",
          "text": [
            "0    10\n",
            "1    20\n",
            "2    30\n",
            "3    40\n",
            "4    50\n",
            "dtype: int64\n"
          ]
        }
      ]
    },
    {
      "cell_type": "code",
      "source": [
        "import pandas as pd\n",
        "\n",
        "data={\n",
        "    'Name':['Alice','Bob','Charlie','David'],\n",
        "    'Age':[25,30,35,40],\n",
        "    'City':['Hyderabad','Delhi','Chennai','Mumbai']\n",
        "}\n",
        "\n",
        "df=pd.DataFrame(data)\n",
        "\n",
        "print(\"Pandas DataFrame:\")\n",
        "print(df)"
      ],
      "metadata": {
        "colab": {
          "base_uri": "https://localhost:8080/"
        },
        "id": "SFJuv7bH9q6B",
        "outputId": "7cf4f856-10ba-428e-e619-866f838199b7"
      },
      "execution_count": 7,
      "outputs": [
        {
          "output_type": "stream",
          "name": "stdout",
          "text": [
            "Pandas DataFrame:\n",
            "      Name  Age       City\n",
            "0    Alice   25  Hyderabad\n",
            "1      Bob   30      Delhi\n",
            "2  Charlie   35    Chennai\n",
            "3    David   40     Mumbai\n"
          ]
        }
      ]
    },
    {
      "cell_type": "code",
      "source": [
        "#access a single column\n",
        "print(df['Name'])"
      ],
      "metadata": {
        "colab": {
          "base_uri": "https://localhost:8080/"
        },
        "id": "itdTfW2h-459",
        "outputId": "6fdfc5bb-7a44-4f2c-8f02-2fbbc1407b46"
      },
      "execution_count": 9,
      "outputs": [
        {
          "output_type": "stream",
          "name": "stdout",
          "text": [
            "0      Alice\n",
            "1        Bob\n",
            "2    Charlie\n",
            "3      David\n",
            "Name: Name, dtype: object\n"
          ]
        }
      ]
    },
    {
      "cell_type": "code",
      "source": [
        "#accessing multiple columns\n",
        "print(df[['Name','City']])"
      ],
      "metadata": {
        "colab": {
          "base_uri": "https://localhost:8080/"
        },
        "id": "EfT6NXQa_5_v",
        "outputId": "221a4a86-33cd-428a-bbe9-f7bf2cc336c7"
      },
      "execution_count": 11,
      "outputs": [
        {
          "output_type": "stream",
          "name": "stdout",
          "text": [
            "      Name       City\n",
            "0    Alice  Hyderabad\n",
            "1      Bob      Delhi\n",
            "2  Charlie    Chennai\n",
            "3    David     Mumbai\n"
          ]
        }
      ]
    },
    {
      "cell_type": "code",
      "source": [
        "#access rows using index\n",
        "print(\"Accessing row 1 using iloc:\")\n",
        "print(df.iloc[1])\n",
        "\n",
        "print(\"\\nAccessing row with index 0 using loc:\")\n",
        "print(df.loc[0])"
      ],
      "metadata": {
        "colab": {
          "base_uri": "https://localhost:8080/"
        },
        "id": "rQJXsLqRAO8x",
        "outputId": "83dbc6d1-16fb-4847-9203-205e72aa7827"
      },
      "execution_count": 13,
      "outputs": [
        {
          "output_type": "stream",
          "name": "stdout",
          "text": [
            "Accessing row 1 using iloc:\n",
            "Name      Bob\n",
            "Age        30\n",
            "City    Delhi\n",
            "Name: 1, dtype: object\n",
            "\n",
            "Accessing row with index 0 using loc:\n",
            "Name        Alice\n",
            "Age            25\n",
            "City    Hyderabad\n",
            "Name: 0, dtype: object\n"
          ]
        }
      ]
    },
    {
      "cell_type": "code",
      "source": [
        "df['Salary']=[40000,50000,60000,70000]\n",
        "print(df)"
      ],
      "metadata": {
        "colab": {
          "base_uri": "https://localhost:8080/"
        },
        "id": "ei1ctQzmBuUr",
        "outputId": "ba349d2b-f287-4c43-e963-e6332d7f4e75"
      },
      "execution_count": 16,
      "outputs": [
        {
          "output_type": "stream",
          "name": "stdout",
          "text": [
            "      Name  Age       City  Salary\n",
            "0    Alice   25  Hyderabad   40000\n",
            "1      Bob   30      Delhi   50000\n",
            "2  Charlie   35    Chennai   60000\n",
            "3    David   40     Mumbai   70000\n"
          ]
        }
      ]
    },
    {
      "cell_type": "code",
      "source": [
        "df=df.drop('City',axis=1)\n",
        "print(df)"
      ],
      "metadata": {
        "colab": {
          "base_uri": "https://localhost:8080/"
        },
        "id": "62hmVCOeCFe6",
        "outputId": "f8b851a2-f229-40e3-8833-1ddbfda208aa"
      },
      "execution_count": 18,
      "outputs": [
        {
          "output_type": "stream",
          "name": "stdout",
          "text": [
            "      Name  Age  Salary\n",
            "0    Alice   25   40000\n",
            "1      Bob   30   50000\n",
            "2  Charlie   35   60000\n",
            "3    David   40   70000\n"
          ]
        }
      ]
    },
    {
      "cell_type": "code",
      "source": [
        "#select rows where age>30\n",
        "print(df[df['Age']>30])"
      ],
      "metadata": {
        "colab": {
          "base_uri": "https://localhost:8080/"
        },
        "id": "4LW07rqvBTIG",
        "outputId": "47f69c58-6d1e-4fc0-e2b3-9a11a68ee1f3"
      },
      "execution_count": 15,
      "outputs": [
        {
          "output_type": "stream",
          "name": "stdout",
          "text": [
            "      Name  Age     City\n",
            "2  Charlie   35  Chennai\n",
            "3    David   40   Mumbai\n"
          ]
        }
      ]
    },
    {
      "cell_type": "code",
      "source": [
        "print(df['Age'].mean())\n",
        "print(df['Age'].max())\n",
        "print(df['Age'].min())"
      ],
      "metadata": {
        "colab": {
          "base_uri": "https://localhost:8080/"
        },
        "id": "av93cwjJCssg",
        "outputId": "08b01a06-c47d-4d85-ee77-e40735388761"
      },
      "execution_count": 19,
      "outputs": [
        {
          "output_type": "stream",
          "name": "stdout",
          "text": [
            "32.5\n",
            "40\n",
            "25\n"
          ]
        }
      ]
    },
    {
      "cell_type": "code",
      "source": [
        "#creating a dataframe with student details\n",
        "student_data={\n",
        "    'student_id':[101,102,103,104],\n",
        "    'name':['ravi','neha','kiran','sita'],\n",
        "    'marks':[85,90,78,92],\n",
        "    'department':['cse','ece','mech','cse']\n",
        "}\n",
        "df=pd.DataFrame(student_data)\n",
        "print(\"student data:\")\n",
        "print(df)"
      ],
      "metadata": {
        "colab": {
          "base_uri": "https://localhost:8080/"
        },
        "id": "AJtjyqcdCvV9",
        "outputId": "c471b47b-dbef-41c6-a77d-07fc09b307b9"
      },
      "execution_count": 21,
      "outputs": [
        {
          "output_type": "stream",
          "name": "stdout",
          "text": [
            "student data:\n",
            "   student_id   name  marks department\n",
            "0         101   ravi     85        cse\n",
            "1         102   neha     90        ece\n",
            "2         103  kiran     78       mech\n",
            "3         104   sita     92        cse\n"
          ]
        }
      ]
    }
  ]
}