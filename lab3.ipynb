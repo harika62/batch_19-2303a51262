{
  "nbformat": 4,
  "nbformat_minor": 0,
  "metadata": {
    "colab": {
      "provenance": [],
      "authorship_tag": "ABX9TyMjInaGJx9pheeb8yO2lUI5",
      "include_colab_link": true
    },
    "kernelspec": {
      "name": "python3",
      "display_name": "Python 3"
    },
    "language_info": {
      "name": "python"
    }
  },
  "cells": [
    {
      "cell_type": "markdown",
      "metadata": {
        "id": "view-in-github",
        "colab_type": "text"
      },
      "source": [
        "<a href=\"https://colab.research.google.com/github/harika62/batch_19-2303a51262/blob/main/lab3.ipynb\" target=\"_parent\"><img src=\"https://colab.research.google.com/assets/colab-badge.svg\" alt=\"Open In Colab\"/></a>"
      ]
    },
    {
      "cell_type": "code",
      "execution_count": 12,
      "metadata": {
        "colab": {
          "base_uri": "https://localhost:8080/"
        },
        "id": "iKAM-D_y58c-",
        "outputId": "51da6c69-5478-4819-a27c-e8231666c35b"
      },
      "outputs": [
        {
          "output_type": "stream",
          "name": "stdout",
          "text": [
            "data written successfully!\n",
            "file content:\n",
            " Hello,B.Tech students!\n",
            "This is file handling in python.\n",
            "sr university\n",
            "suresh kumar\n",
            "first line: Hello,B.Tech students!\n",
            "\n",
            "second line: This is file handling in python.\n",
            "\n",
            "line: sr university\n",
            "\n",
            "all lines as list: ['Hello,B.Tech students!\\n', 'This is file handling in python.\\n', 'sr university\\n', 'suresh kumar']\n"
          ]
        }
      ],
      "source": [
        "#3. writing to a file\n",
        "#open file in write mode\n",
        "fp =open(\"example.txt\",\"w\")\n",
        "#write text to file\n",
        "fp.write(\"Hello,B.Tech students!\\n\")\n",
        "fp.write(\"This is file handling in python.\\n\")\n",
        "fp.write(\"sr university\\n\")\n",
        "fp.write(\"suresh kumar\")\n",
        "#close file\n",
        "fp.close()\n",
        "print(\"data written successfully!\")\n",
        "#4. Reading from a file\n",
        "#open file in read mode\n",
        "file=open(\"example.txt\",\"r\")\n",
        "#Read entire content\n",
        "content=file.read()\n",
        "print(\"file content:\\n\",content)\n",
        "#close file\n",
        "file.close()\n",
        "#5.Reading line by line\n",
        "file=open(\"example.txt\",\"r\")\n",
        "#Read first line\n",
        "line1 =file.readline()\n",
        "print(\"first line:\",line1)\n",
        "#Read remaining lines\n",
        "line2=file.readline()\n",
        "print(\"second line:\",line2)\n",
        "line3=file.readline()\n",
        "print (\"line:\",line3)\n",
        "file.close()\n",
        "#6.Reading all lines into a list\n",
        "file=open(\"example.txt\",\"r\")\n",
        "lines=file.readlines()\n",
        "print(\"all lines as list:\",lines)\n",
        "file.close()\n",
        "\n",
        "\n",
        "\n",
        "\n",
        "\n"
      ]
    },
    {
      "cell_type": "code",
      "source": [
        "#7.Appending data to an existing file\n",
        "file=open(\"example.txt\",\"a\")\n",
        "file.write(\"Appending new data...\\n\")\n",
        "file.close()\n"
      ],
      "metadata": {
        "id": "HIYdwKKIAOZC"
      },
      "execution_count": 11,
      "outputs": []
    },
    {
      "cell_type": "code",
      "source": [
        "#9.using with statement (best practice)\n",
        "#the  with statement automatically closes\n",
        "with open(\"example.txt\",\"r\")as fp:\n",
        "  data=fp.read()\n",
        "  print(data)"
      ],
      "metadata": {
        "colab": {
          "base_uri": "https://localhost:8080/"
        },
        "id": "1EOqhHefAm-n",
        "outputId": "ef415157-fc92-41e0-d7fa-bd7de9329f21"
      },
      "execution_count": 13,
      "outputs": [
        {
          "output_type": "stream",
          "name": "stdout",
          "text": [
            "Hello,B.Tech students!\n",
            "This is file handling in python.\n",
            "sr university\n",
            "suresh kumar\n"
          ]
        }
      ]
    },
    {
      "cell_type": "code",
      "source": [
        "import csv\n",
        "\n",
        "#writing to csv\n",
        "with open(\"data.csv\",\"w\", newline='') as fp:\n",
        "  wr=csv.writer(fp)\n",
        "  wr.writerows([[\"Name\",\"Age\", \"Course\"],[\"aaa\", 21, \"cse\"],[\"bbb\", 20, \"Ece\"]])\n",
        "\n",
        " #Reading from csv\n",
        "with open(\"data.csv\", \"r\") as file:\n",
        "    re = csv.reader(file)\n",
        "    for row in re:\n",
        "      print(row)"
      ],
      "metadata": {
        "colab": {
          "base_uri": "https://localhost:8080/"
        },
        "id": "Mjene04vBOwx",
        "outputId": "53b57ff1-704a-46a3-fa25-852134f0f92d"
      },
      "execution_count": 19,
      "outputs": [
        {
          "output_type": "stream",
          "name": "stdout",
          "text": [
            "['Name', 'Age', 'Course']\n",
            "['aaa', '21', 'cse']\n",
            "['bbb', '20', 'Ece']\n"
          ]
        }
      ]
    },
    {
      "cell_type": "code",
      "source": [
        "import numpy as np\n",
        "#1D Array\n",
        "arr1=np.array([1,2,3,4])\n",
        "print(\"1D Array:\",arr1)\n",
        "#2D Array\n",
        "arr2=np.array([[1,2,3,],[4,5,6]])\n",
        "print(\"2D Array:\\n\",arr2)\n",
        "#zeros array\n",
        "zeros_arr=np.zeros((3,3))\n",
        "print(\"zeros Array:\\n\",zeros_arr)\n",
        "#ones array\n",
        "ones_arr=np.ones((2,4))\n",
        "print(\"ones array:\\n\",ones_arr)\n",
        "#range of numbers\n",
        "range_arr=np.arange(0,10,2)\n",
        "print(\"RangeArray:\",range_arr)\n",
        "rand_arr=np.random.rand(2,3)\n",
        "print(\"RandomArray:\\n\",rand_arr)"
      ],
      "metadata": {
        "colab": {
          "base_uri": "https://localhost:8080/"
        },
        "id": "H4bov3TwEOoA",
        "outputId": "d239681f-a421-4b27-f086-9e44e0d5b861"
      },
      "execution_count": 25,
      "outputs": [
        {
          "output_type": "stream",
          "name": "stdout",
          "text": [
            "1D Array: [1 2 3 4]\n",
            "2D Array:\n",
            " [[1 2 3]\n",
            " [4 5 6]]\n",
            "zeros Array:\n",
            " [[0. 0. 0.]\n",
            " [0. 0. 0.]\n",
            " [0. 0. 0.]]\n",
            "ones array:\n",
            " [[1. 1. 1. 1.]\n",
            " [1. 1. 1. 1.]]\n",
            "RangeArray: [0 2 4 6 8]\n",
            "RandomArray:\n",
            " [[0.64877474 0.02824385 0.65748628]\n",
            " [0.162346   0.18180305 0.77426619]]\n"
          ]
        }
      ]
    },
    {
      "cell_type": "code",
      "source": [
        "arr=np.array([[1,2,3],[4,5,6]])\n",
        "\n",
        "print(\"Shape:\",arr.shape)\n",
        "print(\"Dimension:\",arr.ndim)\n",
        "print(\"Data Type:\",arr.dtype)\n",
        "print(\"Size:\",arr.size)\n",
        "print(\"Item Size:\",arr.itemsize)"
      ],
      "metadata": {
        "colab": {
          "base_uri": "https://localhost:8080/"
        },
        "id": "thH65UxMNtwt",
        "outputId": "094ef9cf-149d-4361-c509-762c14c5f3a0"
      },
      "execution_count": 26,
      "outputs": [
        {
          "output_type": "stream",
          "name": "stdout",
          "text": [
            "Shape: (2, 3)\n",
            "Dimension: 2\n",
            "Data Type: int64\n",
            "Size: 6\n",
            "Item Size: 8\n"
          ]
        }
      ]
    },
    {
      "cell_type": "code",
      "source": [
        "arr=np.array([10,20,30,40,50])\n",
        "\n",
        "print(\"First element:\",arr[0])\n",
        "print(\"Last element:\",arr[-1])\n",
        "print(\"Slice [1:4]:\",arr[:4])\n",
        "print(\"Every second element:\",arr[::2])"
      ],
      "metadata": {
        "colab": {
          "base_uri": "https://localhost:8080/"
        },
        "id": "ogdvMiWJN2Cl",
        "outputId": "24e6eb0a-00f8-4b44-c860-fa92d69510b6"
      },
      "execution_count": 27,
      "outputs": [
        {
          "output_type": "stream",
          "name": "stdout",
          "text": [
            "First element: 10\n",
            "Last element: 50\n",
            "Slice [1:4]: [10 20 30 40]\n",
            "Every second element: [10 30 50]\n"
          ]
        }
      ]
    },
    {
      "cell_type": "code",
      "source": [
        "arr2 = np.array([[1,2,3],[4,5,6]])\n",
        "print(\"Element at row 1, col2:\",arr2[0,1])\n",
        "print(\"Second row:\",arr2[1,:])\n",
        "print(\"Second column:\",arr2[:,1])"
      ],
      "metadata": {
        "id": "1lb60gv2N8yb",
        "outputId": "8598ab4e-8fe8-40f8-e6c9-42aa2b661a3b",
        "colab": {
          "base_uri": "https://localhost:8080/"
        }
      },
      "execution_count": 28,
      "outputs": [
        {
          "output_type": "stream",
          "name": "stdout",
          "text": [
            "Element at row 1, col2: 2\n",
            "Second row: [4 5 6]\n",
            "Second column: [2 5]\n"
          ]
        }
      ]
    }
  ]
}